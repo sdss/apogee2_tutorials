{
 "cells": [
  {
   "cell_type": "markdown",
   "metadata": {},
   "source": [
    "# Making an Abundance Plot\n",
    "Another key plot is to compare the iron abundance, \\[Fe/H\\] , to an alpha-element like Mg. Selecting stars for this application requires two steps. First, selecting stars with reliable ASPCAP fits based on ASPCAPFLAG and also by removing errant values with a set of cuts. Second, it is adviseable to sub-select regions of the galaxy. As in the H-R diagram example, further refinement of this sample can come from merging different examples on this page."
   ]
  },
  {
   "cell_type": "code",
   "execution_count": 1,
   "metadata": {
    "scrolled": true
   },
   "outputs": [],
   "source": [
    "import fitsio\n",
    "from matplotlib import pyplot as plt\n",
    "import numpy as np\n"
   ]
  },
  {
   "cell_type": "markdown",
   "metadata": {},
   "source": [
    "## Read in the AllStar File"
   ]
  },
  {
   "cell_type": "code",
   "execution_count": null,
   "metadata": {},
   "outputs": [],
   "source": [
    "data = fitsio.read(\"./allStar-dr17-synspec.fits\")"
   ]
  },
  {
   "cell_type": "markdown",
   "metadata": {},
   "source": [
    "### Select Stars with Reliable Measurements\n",
    "Here we will use the ASPCAPFLAG bit 23 that represents STAR_BAD."
   ]
  },
  {
   "cell_type": "code",
   "execution_count": null,
   "metadata": {},
   "outputs": [],
   "source": [
    "starbad = 2**23\n",
    "gd1 = np.bitwise_and(data[\"ASPCAPFLAG\"], starbad) == 0\n",
    "#ind = np.where(gd)\n",
    "#data = data[ind]"
   ]
  },
  {
   "cell_type": "markdown",
   "metadata": {},
   "source": [
    "### Select Samples toward the Inner and Outer Galaxy using (l,b)\n",
    "To compare the inner and outer galaxy, we need to do a few things:\n",
    "- restrict the sample to stars of the same stellar type (e.g., giants or dwarfs)\n",
    "- select based on the location in the sky\n",
    "- restrict the same to stars with precise chemical abundances. "
   ]
  },
  {
   "cell_type": "code",
   "execution_count": null,
   "metadata": {},
   "outputs": [],
   "source": [
    "gd = np.logical_and(data[\"LOGG\"] < 4, gd1 )\n",
    "\n",
    "# Select the Inner Galaxy using Galactic Latitude and Longitude\n",
    "i_cut = np.logical_or(np.abs(data[\"GLON\"])>=350, data[\"GLON\"]<=10)\n",
    "l_bsmall_check = np.logical_and(np.abs(data[\"GLAT\"])<5, i_cut)\n",
    "\n",
    "# Select the Outer Galaxy using Galactic Latitude and Longitude\n",
    "o_cut = np.logical_and(np.abs(data[\"GLON\"])>90, data[\"GLON\"]<270)\n",
    "l_bbig_check = np.logical_and(np.abs(data[\"GLAT\"])<10, o_cut)\n",
    "\n",
    "# Apply criteria for the abundances\n",
    "abun_good = np.logical_and(data[\"FE_H_ERR\"]<0.05, data[\"MG_FE_ERR\"]<0.05)\n",
    "\n",
    "# Combine the samples defined above\n",
    "l_bsmall_Feh_check = np.logical_and(l_bsmall_check, abun_good)\n",
    "l_bbig_Feh_check = np.logical_and(l_bbig_check, abun_good)\n",
    "ind_1 = np.where(np.logical_and(gd, l_bsmall_Feh_check))\n",
    "ind_2 = np.where(np.logical_and(gd, l_bbig_Feh_check))\n",
    "\n",
    "# Make separate arrays \n",
    "good1 = data[ind_1]\n",
    "good2 = data[ind_2]\n",
    "\n",
    "# Create the Plotting Arrays\n",
    "alpha1 = good1[\"MG_FE\"]\n",
    "FeH1= good1[\"FE_H\"]\n",
    "\n",
    "alpha2= good2[\"MG_FE\"]\n",
    "FeH2 = good2[\"FE_H\"]"
   ]
  },
  {
   "cell_type": "markdown",
   "metadata": {},
   "source": [
    "### Plotting"
   ]
  },
  {
   "cell_type": "code",
   "execution_count": null,
   "metadata": {},
   "outputs": [],
   "source": [
    "fig = plt.figure(figsize=(16,8))\n",
    "\n",
    "ax1 = fig.add_subplot(121)\n",
    "image1 = ax1.scatter(FeH1, alpha1, c=\"m\" ,edgecolor='k',alpha=0.3)\n",
    "ax1.set_xlabel(\"[Fe/H]\", size=20)\n",
    "ax1.set_ylabel(\"[Mg/H]\", size=20)\n",
    "ax1.set_title(\"Inner Galaxy\", size=30)\n",
    "\n",
    "ax2 = fig.add_subplot(122)\n",
    "image2 = ax2.scatter(FeH2, alpha2, c=\"c\", edgecolor='k', alpha=0.3)\n",
    "ax2.set_xlabel(\"[Fe/H]\", size=20)\n",
    "ax2.set_ylabel(\"[Mg/H]\", size=20)\n",
    "ax2.set_title(\"Outer Galaxy\", size=30)\n",
    "#plt.savefig(\"alpha_fe.png\")"
   ]
  },
  {
   "cell_type": "code",
   "execution_count": null,
   "metadata": {},
   "outputs": [],
   "source": []
  }
 ],
 "metadata": {
  "kernelspec": {
   "display_name": "Python 3",
   "language": "python",
   "name": "python3"
  },
  "language_info": {
   "codemirror_mode": {
    "name": "ipython",
    "version": 3
   },
   "file_extension": ".py",
   "mimetype": "text/x-python",
   "name": "python",
   "nbconvert_exporter": "python",
   "pygments_lexer": "ipython3",
   "version": "3.8.5"
  }
 },
 "nbformat": 4,
 "nbformat_minor": 4
}
